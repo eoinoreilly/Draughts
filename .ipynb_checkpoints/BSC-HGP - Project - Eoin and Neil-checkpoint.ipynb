{
 "cells": [
  {
   "cell_type": "markdown",
   "metadata": {},
   "source": [
    "# Submission by: Eoin O'Reilly - 2930768, Neil O'Brien - Student Number2\n",
    "\n",
    "## Summary of Division of Work\n",
    "* Student 1 Name & Number: Eoin O'Reilly 2930768\t\t\t\t\t\n",
    "* Student 2 Name & Number: Neil O'Brien \n",
    "\n",
    "**Division of work:** work was evenly divided \n",
    "\n",
    "\n",
    "### Code repository \n",
    "Paste image of log here if appropriate\n",
    "\n",
    "### Percentage of work completed by each partner on each class / task \n",
    "\n",
    "| Class name/Task \t|   Eoin O'Reilly \t|    Neil O'Brien \t|\n",
    "|--------------------------------\t|----------------\t|----------------\t|\n",
    "| Draughts \t        |  50%  |  50% \t|\n",
    "| Board \t        |  50% \t|  50%\t|\n",
    "| Piece \t        |  50%\t|  50%\t|\n",
    "| System Design \t |  50%\t |  50%  |\n",
    "| Git hub repository \t|  70%\t|  30% \t|\n",
    "| Learning the rules of Draughts \t|  50%\t|  50%\t|\n",
    "| Writing the rules in logic  \t|  30% \t|  70%\t|\n",
    "\n",
    "\n",
    " \n"
   ]
  },
  {
   "cell_type": "markdown",
   "metadata": {},
   "source": [
    "## Solution (tasks 1 to 9)\n",
    "Place your solution in the cell(s) below\n",
    "Include any error message or any special comments in this cell"
   ]
  },
  {
   "cell_type": "code",
   "execution_count": 3,
   "metadata": {},
   "outputs": [],
   "source": [
    "# Your solution goes here, you can add additional cells if you want. \n",
    "# Make sure that you code is submitted in a project folder as well as pasted here. \n",
    "# It will be tested in the project folder usig PyCharm.\n",
    "# Be sure to comment code in detail to gain documentation marks"
   ]
  },
  {
   "cell_type": "markdown",
   "metadata": {},
   "source": [
    "## Design Decisions:  (task 10) \n",
    "Explain any specific customizations you made. Template will be provided with appropriate headings."
   ]
  },
  {
   "cell_type": "markdown",
   "metadata": {},
   "source": [
    "## Screen Shots of working Project x 5\n",
    "Include 5 screen shots of your project, so that if it is not working correctly, I have some idea of what it is supposed to look like/do.Specific list of screen shorts will be provided."
   ]
  }
 ],
 "metadata": {
  "kernelspec": {
   "display_name": "Python 3",
   "language": "python",
   "name": "python3"
  },
  "language_info": {
   "codemirror_mode": {
    "name": "ipython",
    "version": 3
   },
   "file_extension": ".py",
   "mimetype": "text/x-python",
   "name": "python",
   "nbconvert_exporter": "python",
   "pygments_lexer": "ipython3",
   "version": "3.7.0"
  }
 },
 "nbformat": 4,
 "nbformat_minor": 1
}
