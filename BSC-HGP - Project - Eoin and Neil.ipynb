{
 "cells": [
  {
   "cell_type": "markdown",
   "metadata": {},
   "source": [
    "# Submission by: Eoin O'Reilly - 2930768, Neil O'Brien - Student Number2\n",
    "\n",
    "## Summary of Division of Work\n",
    "* Student 1 Name & Number: \t\t\t\t\t\n",
    "* Student 2 Name & Number: \n",
    "\n",
    "Please complete the sections below with regard to the estimate of the division of work between the two partners\n",
    "If the work was split in the range of 45% to 55% per partner then that is fine and simply say “Work was evenly divided”. If this was not the case then state with a summary sentence. This is the important statement of this file.\n",
    "\n",
    "**Division of work:** work was evenly divided \n",
    "\n",
    "\n",
    "### Code repository \n",
    "Paste image of log here if appropriate\n",
    "\n",
    "### Percentage of work completed by each partner on each class / task \n",
    "Some area require more work than others so this is only for reference. An average of these values will not be calculated.\n",
    "\n",
    "| Class name/Task \t| Student Name 1 \t| Student Name 2 \t|\n",
    "|--------------------------------\t|----------------\t|----------------\t|\n",
    "| Draughts \t        |10%  \t| 90% \t|\n",
    "| Board \t        | 90% \t|  10%\t|\n",
    "| Piece \t        |  .\t|  \t.|\n",
    "| System Design \t |  .\t|  \t.|\n",
    "| Git hub repository \t|.  \t| . \t|\n",
    "| Learning the rules of Draughts \t| . \t| . \t|\n",
    "| Writing the rules in logic  \t|  .\t|  .\t|\n",
    "\n",
    "\n",
    " \n"
   ]
  },
  {
   "cell_type": "markdown",
   "metadata": {},
   "source": [
    "## Solution (tasks 1 to 9)\n",
    "Place your solution in the cell(s) below\n",
    "Include any error message or any special comments in this cell"
   ]
  },
  {
   "cell_type": "code",
   "execution_count": 3,
   "metadata": {},
   "outputs": [],
   "source": [
    "# Your solution goes here, you can add additional cells if you want. \n",
    "# Make sure that you code is submitted in a project folder as well as pasted here. \n",
    "# It will be tested in the project folder usig PyCharm.\n",
    "# Be sure to comment code in detail to gain documentation marks"
   ]
  },
  {
   "cell_type": "markdown",
   "metadata": {},
   "source": [
    "## Design Decisions:  (task 10) \n",
    "Explain any specific customizations you made. Template will be provided with appropriate headings."
   ]
  },
  {
   "cell_type": "markdown",
   "metadata": {},
   "source": [
    "## Screen Shots of working Project x 5\n",
    "Include 5 screen shots of your project, so that if it is not working correctly, I have some idea of what it is supposed to look like/do.Specific list of screen shorts will be provided."
   ]
  }
 ],
 "metadata": {
  "kernelspec": {
   "display_name": "Python 3",
   "language": "python",
   "name": "python3"
  },
  "language_info": {
   "codemirror_mode": {
    "name": "ipython",
    "version": 3
   },
   "file_extension": ".py",
   "mimetype": "text/x-python",
   "name": "python",
   "nbconvert_exporter": "python",
   "pygments_lexer": "ipython3",
   "version": "3.7.0"
  }
 },
 "nbformat": 4,
 "nbformat_minor": 1
}
